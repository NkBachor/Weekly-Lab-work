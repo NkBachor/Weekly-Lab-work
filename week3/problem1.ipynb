{
  "cells": [
    {
      "cell_type": "markdown",
      "metadata": {
        "id": "zP_YkLab7FvH"
      },
      "source": [
        "Before you turn this problem in, make sure everything runs as expected. First, **restart the kernel** (in the menubar, select Kernel$\\rightarrow$Restart) and then **run all cells** (in the menubar, select Cell$\\rightarrow$Run All).\n",
        "\n",
        "Make sure you fill in any place that says `YOUR CODE HERE` or \"YOUR ANSWER HERE\", as well as your name and collaborators below:"
      ]
    },
    {
      "cell_type": "code",
      "execution_count": 37,
      "metadata": {
        "id": "8LkfTxtH7FvO"
      },
      "outputs": [],
      "source": [
        "NAME = \"Cynthia Bachor\"\n",
        "COLLABORATORS = \"21153840\""
      ]
    },
    {
      "cell_type": "markdown",
      "metadata": {
        "id": "C_3SSZ5e7FvR"
      },
      "source": [
        "---"
      ]
    },
    {
      "cell_type": "markdown",
      "metadata": {
        "id": "PMZvP3937FvS"
      },
      "source": [
        "---\n",
        "# Welcome to CE880\n",
        "### This is your week-3 : Problem 1 notebook\n",
        "\n",
        "For this problem set, we'll be using the Jupyter notebook and please upload this notebook to [Google Colab](https://colab.research.google.com/). \n"
      ]
    },
    {
      "cell_type": "markdown",
      "metadata": {
        "id": "sAKyNQ5H7FvT"
      },
      "source": [
        "---\n",
        "## Question 1:\n",
        "\n",
        "We have already loaded `iris` dataset for you. Now, write a function to calculate the `median` on the 1st column of the dataset. \n",
        "`Hint`: To find the median, you first need to sort the values in your sample. But, before that we have sliced, the first column of `iris` data into a variable name `sample` and data type is a list. Then pass `sample` list as a parameter in you `my_median` function. \n",
        "The `median` of a sample of numeric data is the value that lies in the middle when we sort the data. The data may be sorted in ascending or descending order, the median remains the same. Please also consider what to do if there is no middle value."
      ]
    },
    {
      "cell_type": "code",
      "execution_count": 38,
      "metadata": {
        "deletable": false,
        "nbgrader": {
          "cell_type": "code",
          "checksum": "b0df165e4bf3981a6bb75cb256c32656",
          "grade": false,
          "grade_id": "my_median_ans",
          "locked": false,
          "schema_version": 3,
          "solution": true
        },
        "id": "oLyS91BA7FvU"
      },
      "outputs": [],
      "source": [
        "import numpy as np\n",
        "from sklearn import datasets\n",
        "iris = datasets.load_iris()\n",
        "sample = list(iris.data[:,0])\n",
        "def my_median(sample):\n",
        "    sample.sort() # use the sort function to sort the list \"sample\"\n",
        "    meadian = np.median(sample) # find the mean of the sorted sample and assign to the variable \"meadian\"\n",
        "    return meadian\n",
        "    raise NotImplementedError()"
      ]
    },
    {
      "cell_type": "code",
      "execution_count": 39,
      "metadata": {
        "deletable": false,
        "editable": false,
        "nbgrader": {
          "cell_type": "code",
          "checksum": "7b2b8fc89aac637c30deaf0fbadd79ec",
          "grade": true,
          "grade_id": "my_median_test",
          "locked": false,
          "points": 1,
          "schema_version": 3,
          "solution": false
        },
        "id": "FC5bRlWw7FvV"
      },
      "outputs": [],
      "source": [
        "\"\"\"Check your output\"\"\"\n",
        "assert my_median(sample) == 5.8"
      ]
    },
    {
      "cell_type": "markdown",
      "metadata": {
        "id": "dUiX5ti97FvW"
      },
      "source": [
        "---\n",
        "\n",
        "## Question 2:\n",
        "\n",
        "`Please read me before attemping the question`\n",
        "A quartile is a type of quantile. The first quartile `(Q1)`, is defined as the middle number between the smallest number and the median of the data set, the second quartile `(Q2)` – median of the given data set while the third quartile `(Q3)`, is the middle number between the median and the largest value of the data set.\n",
        "\n",
        "Algorithm to find Quartiles :\n",
        "Quartiles are calculated by the help of the median. If the number of entries is an even number i.e. of the form 2n, then, first quartile `(Q1)` is equal to the median of the `n` smallest entries and the third quartile `(Q3)` is equal to the median of the `n` largest entries.\n",
        "\n",
        "If the number of entries is an odd number i.e. of the form `(2n + 1)`, then\n",
        "\n",
        "* the first quartile (Q1) is equal to the median of the n smallest entries\n",
        "* the third quartile (Q3) is equal to the median of the n largest entries\n",
        "* the second quartile(Q2) is the same as the ordinary median.\n",
        "\n",
        "Example: \n",
        "input = [75, 69, 56, 46, 47, 79, 92, 97, 89, 88, 36, 96, 105, 32, 116, 101, 79, 93, 91, 112]\n",
        "After sorting the above data set:\n",
        "[32, 36, 46, 47, 56, 69, 75, 79, 79, 88, 89, 91, 92, 93, 96, 97, 101, 105, 112, 116]\n",
        "Here the total number of terms is 20.\n",
        "\n",
        "The second quartile `(Q2)` or the median of the above data is `(88 + 89) / 2 = 88.5`\n",
        "The first quartile `(Q1)` is median of first `n` i.e. 10 terms (or `n` i.e. 10 smallest values) = 62.5\n",
        "The third quartile `(Q3)` is the median of `n` i.e. 10 largest values (or last `n` i.e. 10 values) = 96.5\n",
        "Then, `IQR = Q3 – Q1 = 96.5 – 62.5 = 34.0`\n",
        "\n",
        "\n",
        "Now, your job is to write a function to Caluate Interquartile Range on the second column of `iris` dataset, which you have loaded in the question 1.\n",
        "`hint`: Create a new variable `sample2` and slice the second column of the `iris` data. Please explore `np.percentile` function"
      ]
    },
    {
      "cell_type": "code",
      "execution_count": 40,
      "metadata": {
        "deletable": false,
        "nbgrader": {
          "cell_type": "code",
          "checksum": "b9fa9c03b96da752988979dc18f31475",
          "grade": false,
          "grade_id": "my_quartile_ans",
          "locked": false,
          "schema_version": 3,
          "solution": true
        },
        "id": "TpaWLrnm7FvY"
      },
      "outputs": [],
      "source": [
        "import numpy as np\n",
        "sample2 = list(iris.data[:,1])\n",
        "def my_quartile(sample2):\n",
        "    \"\"\"Caluate Interquartile Range of the given list.\"\"\"\n",
        "    sample2.sort() #sort through the data in sample2\n",
        "    q3, q1 = np.percentile(sample2, [75 ,25]) #using percentile, q1 is the 25th percentile and q3 is the 75th percentile of a dataset. \n",
        "    iqr = q3 - q1 #calculate for iqr\n",
        "    return iqr\n",
        "    raise NotImplementedError()"
      ]
    },
    {
      "cell_type": "code",
      "execution_count": 41,
      "metadata": {
        "deletable": false,
        "editable": false,
        "nbgrader": {
          "cell_type": "code",
          "checksum": "05188fb6903654dd84d84ca6f9a2b712",
          "grade": true,
          "grade_id": "my_quartile_test",
          "locked": false,
          "points": 2,
          "schema_version": 3,
          "solution": false
        },
        "id": "RUTQRdwC7FvZ"
      },
      "outputs": [],
      "source": [
        "\"\"\"Check that correct answers here\"\"\"\n",
        "import math\n",
        "assert math.isclose(my_quartile(sample2), 0.5, rel_tol=0.05)"
      ]
    },
    {
      "cell_type": "markdown",
      "metadata": {
        "id": "6-gin7Oa7Fva"
      },
      "source": [
        "---\n",
        "## Question 3: \n",
        "\n",
        "Write a function to calculate the `standard deviation` on the third column of `iris` dataset. Create a new variable `sample3` and slice the third column of the iris data. Please create a function that first calculate the variance then calculate `standard deviation`. Please do not use inbuilt `numpy.var` and `numpy.std` functions. Write your own codes. "
      ]
    },
    {
      "cell_type": "code",
      "source": [
        "import math\n",
        "sample3 = list(iris.data[:,2])\n",
        "sample3.sort() #sort through the data in sample3\n",
        "\n",
        "#create the variance function\n",
        "def variance(sample3, ddof=0):\n",
        "  n = len(sample3)\n",
        "  mean = sum(sample3) / n\n",
        "  return sum((x - mean) ** 2 for x in sample3) / (n - ddof)\n",
        "\n",
        "def my_std(sample3, ddof=0):\n",
        "    \"\"\"Write a program to calculate the standard deviation of 3rd column of iris dataset.\"\"\"\n",
        "    return math.sqrt(variance(sample3, ddof=0)) #calculate for standard deviation\n",
        "    raise NotImplementedError()"
      ],
      "metadata": {
        "id": "AYRowhdbtb3s"
      },
      "execution_count": 42,
      "outputs": []
    },
    {
      "cell_type": "code",
      "execution_count": 43,
      "metadata": {
        "deletable": false,
        "editable": false,
        "nbgrader": {
          "cell_type": "code",
          "checksum": "73e1860f9726a3e354f38732d205ca9e",
          "grade": true,
          "grade_id": "my_std_test",
          "locked": true,
          "points": 1,
          "schema_version": 3,
          "solution": false,
          "task": false
        },
        "id": "8FcBj5ps7Fvb"
      },
      "outputs": [],
      "source": [
        "\"\"\"Test you solution\"\"\"\n",
        "assert math.isclose(my_std(sample3), 1.75, rel_tol=0.05)"
      ]
    },
    {
      "cell_type": "markdown",
      "metadata": {
        "id": "KguCRM_c7Fvc"
      },
      "source": [
        "---\n",
        "## Question 4:\n",
        "\n",
        "Write a program to find the mean of the 4th column of `iris` dataset. "
      ]
    },
    {
      "cell_type": "code",
      "execution_count": 44,
      "metadata": {
        "deletable": false,
        "nbgrader": {
          "cell_type": "code",
          "checksum": "c83c033456434aedf0b6a2f376e03bc8",
          "grade": false,
          "grade_id": "my_mean_ans",
          "locked": false,
          "schema_version": 3,
          "solution": true,
          "task": false
        },
        "id": "yR2FXjTv7Fvd"
      },
      "outputs": [],
      "source": [
        "sample4 = list(iris.data[:,3])\n",
        "def my_mean(sample4):\n",
        "    \"\"\"write a function to find the mean of the 4th column of iris data\"\"\"\n",
        "    sample4.sort() #sort through the data in sample4\n",
        "    return sum(sample4) / len(sample4) #calculate mean which is sum divided by length\n",
        "    raise NotImplementedError()"
      ]
    },
    {
      "cell_type": "code",
      "execution_count": 45,
      "metadata": {
        "deletable": false,
        "editable": false,
        "nbgrader": {
          "cell_type": "code",
          "checksum": "6ad8a1583e1a2915d2f80df7a3d19921",
          "grade": true,
          "grade_id": "my_mean_test",
          "locked": true,
          "points": 1,
          "schema_version": 3,
          "solution": false,
          "task": false
        },
        "id": "JWtV2Zyt7Fve"
      },
      "outputs": [],
      "source": [
        "\"\"\"Test you solution\"\"\"\n",
        "assert math.isclose(my_mean(sample4), 1.19, rel_tol=0.05)"
      ]
    },
    {
      "cell_type": "markdown",
      "metadata": {
        "id": "Pp7QjSFz7Fvf"
      },
      "source": [
        "## Question 5\n",
        "\n",
        "Write a Pandas program to calculate the correlation between column 1 and column 3 of `iris` dataset. `Hint` use `from scipy import stats` to find a Pearson correlation coefficient. "
      ]
    },
    {
      "cell_type": "code",
      "source": [
        "import itertools\n",
        "from scipy import stats\n",
        "sample1 = list(iris.data[:,0])\n",
        "sample2 = list(iris.data[:,2])\n",
        "def iris_correlation(sample1, sample2):\n",
        "    \"\"\"calculate the correlation\"\"\"\n",
        "    r = stats.pearsonr(sample1, sample2)\n",
        "    return r[0] #return he first value"
      ],
      "metadata": {
        "id": "VomX-NTiXddF"
      },
      "execution_count": 46,
      "outputs": []
    },
    {
      "cell_type": "code",
      "execution_count": 47,
      "metadata": {
        "id": "gOqeVFmd7Fvh"
      },
      "outputs": [],
      "source": [
        "\"\"\"Test you solution\"\"\"\n",
        "assert math.isclose(iris_correlation(sample1, sample2), 0.87, rel_tol=0.05)"
      ]
    }
  ],
  "metadata": {
    "kernelspec": {
      "display_name": "Python 3",
      "language": "python",
      "name": "python3"
    },
    "language_info": {
      "codemirror_mode": {
        "name": "ipython",
        "version": 3
      },
      "file_extension": ".py",
      "mimetype": "text/x-python",
      "name": "python",
      "nbconvert_exporter": "python",
      "pygments_lexer": "ipython3",
      "version": "3.7.10"
    },
    "colab": {
      "name": "problem1_wk3.ipynb",
      "provenance": []
    }
  },
  "nbformat": 4,
  "nbformat_minor": 0
}