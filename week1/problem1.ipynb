{
  "cells": [
    {
      "cell_type": "markdown",
      "metadata": {
        "id": "SDQqamS4C6Yz"
      },
      "source": [
        "Before you turn this problem in, make sure everything runs as expected. First, **restart the kernel** (in the menubar, select Kernel$\\rightarrow$Restart) and then **run all cells** (in the menubar, select Cell$\\rightarrow$Run All).\n",
        "\n",
        "Make sure you fill in any place that says `YOUR CODE HERE` or \"YOUR ANSWER HERE\", as well as your name and collaborators below:"
      ]
    },
    {
      "cell_type": "code",
      "execution_count": null,
      "metadata": {
        "id": "zHQZxuUoC6Zb"
      },
      "outputs": [],
      "source": [
        "NAME = \"Cynthia Bachor\"\n",
        "COLLABORATORS = \"21153840\""
      ]
    },
    {
      "cell_type": "markdown",
      "metadata": {
        "id": "gMccHyfRC6Zg"
      },
      "source": [
        "---"
      ]
    },
    {
      "cell_type": "markdown",
      "metadata": {
        "id": "m-17vXHVC6Zj"
      },
      "source": [
        "---\n",
        "# Welcome to CE880\n",
        "### This is your week-1 : Problem 1 notebook\n",
        "\n",
        "For this problem set, we'll be using the Jupyter notebook and please upload this notebook to [Google Colab](https://colab.research.google.com/). \n"
      ]
    },
    {
      "cell_type": "markdown",
      "metadata": {
        "id": "9-EqoczRC6Zm"
      },
      "source": [
        "---\n",
        "## Question 1:\n",
        "\n",
        "Write a function that calculate the area of the circle by using the formula as `area = 3.14 * r * r`\n",
        "At last, print the area of the cirlce to get the output."
      ]
    },
    {
      "cell_type": "code",
      "execution_count": 1,
      "metadata": {
        "id": "9mLDz1ZaC6Zt"
      },
      "outputs": [],
      "source": [
        "\n",
        "def areaofCircle(radius):\n",
        "    \"\"\"Compute the area of squares with side = any number.\n",
        "\n",
        "    \n",
        "    \"\"\"\n",
        "    #Define PI\n",
        "    PI= 3.14\n",
        "    #Calculate for the area of a circle\n",
        "    areaofCircle = PI * radius * radius\n",
        "    return areaofCircle\n",
        "    raise NotImplementedError()"
      ]
    },
    {
      "cell_type": "code",
      "execution_count": 2,
      "metadata": {
        "colab": {
          "base_uri": "https://localhost:8080/"
        },
        "id": "eatRP3P2C6Zw",
        "outputId": "32afca40-9927-4d06-9b50-4c64b7fe97c4"
      },
      "outputs": [
        {
          "output_type": "execute_result",
          "data": {
            "text/plain": [
              "28.259999999999998"
            ]
          },
          "metadata": {},
          "execution_count": 2
        }
      ],
      "source": [
        "areaofCircle(3)"
      ]
    },
    {
      "cell_type": "code",
      "execution_count": 3,
      "metadata": {
        "id": "VTpidEHnC6Zz"
      },
      "outputs": [],
      "source": [
        "\"\"\"Check that squares returns the correct output for several inputs\"\"\"\n",
        "assert areaofCircle(3) == 28.259999999999998\n",
        "assert areaofCircle(10) == 314.0"
      ]
    },
    {
      "cell_type": "markdown",
      "metadata": {
        "id": "7hXLhY5iC6aD"
      },
      "source": [
        "---\n",
        "\n",
        "## Question 2:\n",
        "\n",
        "A `trapezoid` is a quadrilateral with two sides parallel. The `trapezoid` is equivalent to the British definition of the `trapezium`. An isosceles `trapezoid` is a `trapezoid` in which the base angles are equal so\n",
        "\n",
        "<img src=\"https://www.w3resource.com/w3r_images/python-math-image-exercise-3.svg\"\n",
        "     alt=\"Markdown Monster icon\"\n",
        "     style=\"float: left; margin-right: 10px;\" />"
      ]
    },
    {
      "cell_type": "code",
      "execution_count": 4,
      "metadata": {
        "id": "zV9Yu9z0C6aN"
      },
      "outputs": [],
      "source": [
        "def areaofTrap(base1, base2, height):\n",
        "    \"\"\"Compute the sum of the squares of numbers from 1 to n.\"\"\"\n",
        "\n",
        "    BaseSum = base1 + base2 # summing up the bases\n",
        "    area = 0.5 * BaseSum  #(1/2 * a+b)\n",
        "    a = area * height\n",
        "    return a\n"
      ]
    },
    {
      "cell_type": "code",
      "execution_count": 5,
      "metadata": {
        "colab": {
          "base_uri": "https://localhost:8080/"
        },
        "id": "x8uOZZb7C6aQ",
        "outputId": "3cceed45-ce3b-4d94-ea50-d61cc260d183"
      },
      "outputs": [
        {
          "output_type": "execute_result",
          "data": {
            "text/plain": [
              "-36.0"
            ]
          },
          "metadata": {},
          "execution_count": 5
        }
      ],
      "source": [
        "areaofTrap(5, 3, -9)"
      ]
    },
    {
      "cell_type": "code",
      "execution_count": 6,
      "metadata": {
        "id": "K7VMUOAKC6aS"
      },
      "outputs": [],
      "source": [
        "\"\"\"Check that areaofTrap returns the correct answer for various inputs.\"\"\"\n",
        "assert areaofTrap(10, 10, 20) == 200.0\n",
        "assert areaofTrap(5, 10, 20) == 150.0\n",
        "assert areaofTrap(5, 3, 5) == 20.0\n",
        "assert areaofTrap(5, 3, -9) == -36.0"
      ]
    },
    {
      "cell_type": "markdown",
      "metadata": {
        "id": "9cxZOntTC6aV"
      },
      "source": [
        "---\n",
        "## Question 3: \n",
        "\n",
        " Write a Python program to reverse a string. Example: Sample String: `1234xyz` Expected Output: `zyx4321`"
      ]
    },
    {
      "cell_type": "code",
      "execution_count": 7,
      "metadata": {
        "id": "LhWvfgMAC6aX"
      },
      "outputs": [],
      "source": [
        "def reverse_string(str1):\n",
        "    \"\"\"Write your code here to reverse the string\"\"\"\n",
        "    \n",
        "    #Count backwards \n",
        "    reverse_string = str1 [::-1]\n",
        "    return reverse_string\n",
        "    raise NotImplementedError()"
      ]
    },
    {
      "cell_type": "code",
      "execution_count": 8,
      "metadata": {
        "colab": {
          "base_uri": "https://localhost:8080/",
          "height": 37
        },
        "id": "iN1mGhz0C6af",
        "outputId": "428f5d7c-05ea-449e-fd56-bdaff7b2a330"
      },
      "outputs": [
        {
          "output_type": "execute_result",
          "data": {
            "application/vnd.google.colaboratory.intrinsic+json": {
              "type": "string"
            },
            "text/plain": [
              "'088EC'"
            ]
          },
          "metadata": {},
          "execution_count": 8
        }
      ],
      "source": [
        "reverse_string('CE880')"
      ]
    },
    {
      "cell_type": "code",
      "execution_count": 9,
      "metadata": {
        "id": "qDkAgn7sC6ah"
      },
      "outputs": [],
      "source": [
        "\"\"\"Check that areaofTrap returns the correct answer for various inputs.\"\"\"\n",
        "assert reverse_string('Colchester') == 'retsehcloC'\n",
        "assert reverse_string('University') == 'ytisrevinU'\n",
        "assert reverse_string('Data Science') == 'ecneicS ataD'\n",
        "assert reverse_string('CE880') == '088EC'"
      ]
    },
    {
      "cell_type": "markdown",
      "metadata": {
        "id": "TZpEhZUMC6aj"
      },
      "source": [
        "## Question 4:\n",
        "Write a Python program to print the even numbers from a given list.\n",
        "\n",
        "Sample List : `[1, 2, 3, 4, 6, 7, 8, 9]` Expected Result : `[2, 4, 6, 8]`"
      ]
    },
    {
      "cell_type": "code",
      "execution_count": 21,
      "metadata": {
        "id": "zvzcXyepC6al"
      },
      "outputs": [],
      "source": [
        "import numpy as np\n",
        "def even_num(lst_1):\n",
        "    \"\"\"Write a Python program to print the even numbers from a given list.\"\"\"\n",
        "    enum = [] #Create an empty list called enum\n",
        "    for n in lst_1:  \n",
        "        if n % 2 == 0:  #if the remainder of n/2 is 0\n",
        "         enum.append(n)  #append n to the end of the empty list enum\n",
        "    return enum\n",
        "    raise NotImplementedError()"
      ]
    },
    {
      "cell_type": "code",
      "execution_count": 22,
      "metadata": {
        "colab": {
          "base_uri": "https://localhost:8080/"
        },
        "id": "mT4vM4dzC6am",
        "outputId": "7c0c839a-c799-4dd2-96ea-6f99cc087256"
      },
      "outputs": [
        {
          "output_type": "execute_result",
          "data": {
            "text/plain": [
              "[2, 14, 8, 14]"
            ]
          },
          "metadata": {},
          "execution_count": 22
        }
      ],
      "source": [
        "even_num([2, 3, 14, 17, 8, 19, 11, 14])"
      ]
    },
    {
      "cell_type": "code",
      "execution_count": 28,
      "metadata": {
        "id": "UDEy_7mRC6ao"
      },
      "outputs": [],
      "source": [
        "assert even_num([1, 2, 3, 4, 6, 7, 8, 9]) == [2, 4, 6, 8]\n",
        "assert even_num([2, 3, 4, 7, 8, 9, 11, 14]) == [2, 4, 8, 14]\n",
        "assert even_num([2, 3, 14, 17, 8, 19, 11, 14]) == [2, 14, 8, 14]"
      ]
    },
    {
      "cell_type": "markdown",
      "metadata": {
        "id": "96YG6oZZC6ax"
      },
      "source": [
        "## Question 5:\n",
        "Write a Python function to create and print a list where the values are square of numbers between `1` and `n`, where `n` is user defined number: Example `sqr_values(4) == [1, 4, 9]`"
      ]
    },
    {
      "cell_type": "code",
      "execution_count": 24,
      "metadata": {
        "id": "d-FAH-HIC6a0"
      },
      "outputs": [],
      "source": [
        "def sqr_values(n):\n",
        "    \"\"\"Write a Python program to print the square of numbers between 1 and `n`\"\"\"\n",
        "    \n",
        "    sqr_values = []\n",
        "    for i in range(1, n): #checking the values between 1 and n\n",
        "      a = (i**2) \n",
        "      sqr_values.append(a)\n",
        "    return sqr_values\n",
        "    raise NotImplementedError()"
      ]
    },
    {
      "cell_type": "code",
      "execution_count": 25,
      "metadata": {
        "colab": {
          "base_uri": "https://localhost:8080/"
        },
        "id": "RY594_XXC6a1",
        "outputId": "6edaee31-fcc6-4baa-e2bf-a7e6003cd36c"
      },
      "outputs": [
        {
          "output_type": "execute_result",
          "data": {
            "text/plain": [
              "[1, 4, 9]"
            ]
          },
          "metadata": {},
          "execution_count": 25
        }
      ],
      "source": [
        "sqr_values(4)"
      ]
    },
    {
      "cell_type": "code",
      "execution_count": 26,
      "metadata": {
        "id": "oeNeQyDWC6a3"
      },
      "outputs": [],
      "source": [
        "\"\"\"Check that sqr_values returns the correct answer for various inputs.\"\"\"\n",
        "assert sqr_values(4) == [1, 4, 9]\n",
        "assert sqr_values(8) == [1, 4, 9, 16, 25, 36, 49]\n",
        "assert sqr_values(9) == [1, 4, 9, 16, 25, 36, 49, 64]\n",
        "assert sqr_values(11) == [1, 4, 9, 16, 25, 36, 49, 64, 81, 100]"
      ]
    },
    {
      "cell_type": "markdown",
      "metadata": {
        "id": "LLvBtqc2C6a4"
      },
      "source": [
        "## Question 6: \n",
        "Write a Python program to generate all permutations of a list in Python.\n",
        "\n",
        "In mathematics, the notion of permutation relates to the act of arranging all the members of a set into some sequence or order, or if the set is already ordered, rearranging (reordering) its elements, a process called permuting. These differ from combinations, which are selections of some members of a set where order is disregarded."
      ]
    },
    {
      "cell_type": "code",
      "execution_count": null,
      "metadata": {
        "id": "j7ybwwSgC6a-"
      },
      "outputs": [],
      "source": [
        "import itertools\n",
        "def perm_list(lst):\n",
        "    \"\"\"Write a Python program to calculate number of days between two dates.\"\"\"\n",
        "    perm = list(itertools.permutations(lst))\n",
        "    return perm \n"
      ]
    },
    {
      "cell_type": "code",
      "execution_count": null,
      "metadata": {
        "colab": {
          "base_uri": "https://localhost:8080/"
        },
        "id": "qXzz2vxpC6a_",
        "outputId": "2b671ea9-0d62-4a1f-87bd-89180cba4444"
      },
      "outputs": [
        {
          "output_type": "execute_result",
          "data": {
            "text/plain": [
              "[(1, 2, 4), (1, 4, 2), (2, 1, 4), (2, 4, 1), (4, 1, 2), (4, 2, 1)]"
            ]
          },
          "metadata": {},
          "execution_count": 9
        }
      ],
      "source": [
        "perm_list([1,2, 4])"
      ]
    },
    {
      "cell_type": "code",
      "execution_count": null,
      "metadata": {
        "id": "OStvD_2NC6bA"
      },
      "outputs": [],
      "source": [
        "assert perm_list([1,2]) == [(1, 2), (2, 1)]\n",
        "assert perm_list([1,2, 4]) == [(1, 2, 4), (1, 4, 2), (2, 1, 4), (2, 4, 1), (4, 1, 2), (4, 2, 1)]"
      ]
    }
  ],
  "metadata": {
    "colab": {
      "collapsed_sections": [],
      "name": "problem1.ipynb",
      "provenance": []
    },
    "kernelspec": {
      "display_name": "Python 3",
      "language": "python",
      "name": "python3"
    },
    "language_info": {
      "codemirror_mode": {
        "name": "ipython",
        "version": 3
      },
      "file_extension": ".py",
      "mimetype": "text/x-python",
      "name": "python",
      "nbconvert_exporter": "python",
      "pygments_lexer": "ipython3",
      "version": "3.7.10"
    }
  },
  "nbformat": 4,
  "nbformat_minor": 0
}